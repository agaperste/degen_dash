{
 "cells": [
  {
   "cell_type": "code",
   "execution_count": 55,
   "id": "322ae4a0",
   "metadata": {},
   "outputs": [],
   "source": [
    "import dotenv, os\n",
    "from dune_client.types import QueryParameter\n",
    "from dune_client.client import DuneClient\n",
    "from dune_client.query import QueryBase\n",
    "import pandas as pd"
   ]
  },
  {
   "cell_type": "code",
   "execution_count": 56,
   "id": "4eec2f5a",
   "metadata": {},
   "outputs": [],
   "source": [
    "os.chdir(\"/Users/zokum/local-Workspace/misc/degen_dash\")\n",
    "# load .env file\n",
    "dotenv.load_dotenv(\".env\")\n",
    "# setup Dune Python client\n",
    "dune = DuneClient.from_env()"
   ]
  },
  {
   "cell_type": "code",
   "execution_count": 71,
   "id": "26aae9d6",
   "metadata": {},
   "outputs": [],
   "source": [
    "# query = QueryBase(\n",
    "#     query_id=3490743,\n",
    "# #     params=[\n",
    "# #         QueryParameter.text_type(name=\"TextField\", value=\"Word\"),\n",
    "# #         QueryParameter.number_type(name=\"NumberField\", value=3.1415926535),\n",
    "# #         QueryParameter.date_type(name=\"DateField\", value=\"2022-05-04 00:00:00\"),\n",
    "# #         QueryParameter.enum_type(name=\"EnumField\", value=\"Option 1\"),\n",
    "# #     ],\n",
    "# )\n",
    "# \n",
    "# query_result = dune.run_query_dataframe(\n",
    "#     query = query,\n",
    "#     ping_frequency = 10,\n",
    "#     performance = 'large'\n",
    "# )\n",
    "\n",
    "# query_result = dune.get_latest_result_dataframe(3490743)\n",
    "query_result = pd.DataFrame.from_dict(dune.get_latest_result(3490743).result.rows)"
   ]
  },
  {
   "cell_type": "code",
   "execution_count": 72,
   "id": "3a5fd6e9",
   "metadata": {},
   "outputs": [
    {
     "data": {
      "text/html": [
       "<div>\n",
       "<style scoped>\n",
       "    .dataframe tbody tr th:only-of-type {\n",
       "        vertical-align: middle;\n",
       "    }\n",
       "\n",
       "    .dataframe tbody tr th {\n",
       "        vertical-align: top;\n",
       "    }\n",
       "\n",
       "    .dataframe thead th {\n",
       "        text-align: right;\n",
       "    }\n",
       "</style>\n",
       "<table border=\"1\" class=\"dataframe\">\n",
       "  <thead>\n",
       "    <tr style=\"text-align: right;\">\n",
       "      <th></th>\n",
       "      <th>address</th>\n",
       "      <th>degen_amount</th>\n",
       "      <th>evt_tx_hash</th>\n",
       "      <th>minute</th>\n",
       "      <th>price_at_time</th>\n",
       "    </tr>\n",
       "  </thead>\n",
       "  <tbody>\n",
       "    <tr>\n",
       "      <th>0</th>\n",
       "      <td>0x27d507b40f0ae4011f689e708b174e925c89cc69</td>\n",
       "      <td>-1.000000e+04</td>\n",
       "      <td>0x964dcef0e92943733e10fb86535f14aac8dd5ec60089...</td>\n",
       "      <td>2024-02-01 02:32:00.000 UTC</td>\n",
       "      <td>8.520000e-04</td>\n",
       "    </tr>\n",
       "    <tr>\n",
       "      <th>1</th>\n",
       "      <td>0x27d507b40f0ae4011f689e708b174e925c89cc69</td>\n",
       "      <td>-1.278587e+03</td>\n",
       "      <td>0x964dcef0e92943733e10fb86535f14aac8dd5ec60089...</td>\n",
       "      <td>2024-02-01 02:32:00.000 UTC</td>\n",
       "      <td>8.520000e-04</td>\n",
       "    </tr>\n",
       "    <tr>\n",
       "      <th>2</th>\n",
       "      <td>0x50e388c498ad8a92e57066b69108e2668b2a4998</td>\n",
       "      <td>-3.000000e+03</td>\n",
       "      <td>0x737da2d687b2c0ba1838a6faa903fd14ec06e11afbbb...</td>\n",
       "      <td>2024-02-01 02:32:00.000 UTC</td>\n",
       "      <td>8.520000e-04</td>\n",
       "    </tr>\n",
       "    <tr>\n",
       "      <th>3</th>\n",
       "      <td>0xdc74846f63d13669e7b2c61f7a18a0288529779f</td>\n",
       "      <td>-6.256487e+04</td>\n",
       "      <td>0xbc24eb338778f2bde6a3cadc973cfbca6ce4f04664f0...</td>\n",
       "      <td>2024-02-01 00:24:00.000 UTC</td>\n",
       "      <td>8.070000e-04</td>\n",
       "    </tr>\n",
       "    <tr>\n",
       "      <th>4</th>\n",
       "      <td>0xcb5d4d5a89c801ddf85f030709d115436d325d8c</td>\n",
       "      <td>-5.468346e+04</td>\n",
       "      <td>0x2a72c2dacca0f31a594dd66e8a5954e50b9149b73439...</td>\n",
       "      <td>2024-02-01 00:24:00.000 UTC</td>\n",
       "      <td>8.070000e-04</td>\n",
       "    </tr>\n",
       "    <tr>\n",
       "      <th>...</th>\n",
       "      <td>...</td>\n",
       "      <td>...</td>\n",
       "      <td>...</td>\n",
       "      <td>...</td>\n",
       "      <td>...</td>\n",
       "    </tr>\n",
       "    <tr>\n",
       "      <th>519599</th>\n",
       "      <td>0x1007a39088c22a4dfe54032f08fc47a7303603df</td>\n",
       "      <td>1.624925e+06</td>\n",
       "      <td>0x681076530c436ab398c68131c03646d1f110cd2ff389...</td>\n",
       "      <td>2024-01-09 09:15:00.000 UTC</td>\n",
       "      <td>9.703826e-07</td>\n",
       "    </tr>\n",
       "    <tr>\n",
       "      <th>519600</th>\n",
       "      <td>0x6207f31163e6f31d588019afaa14299a418d3264</td>\n",
       "      <td>5.663361e+06</td>\n",
       "      <td>0xd1be4a81f6c2e66dc5dd1895e366de807066bc7617b3...</td>\n",
       "      <td>2024-01-09 18:25:00.000 UTC</td>\n",
       "      <td>2.004702e-05</td>\n",
       "    </tr>\n",
       "    <tr>\n",
       "      <th>519601</th>\n",
       "      <td>0xc9034c3e7f58003e6ae0c8438e7c8f4598d5acaa</td>\n",
       "      <td>9.500000e+07</td>\n",
       "      <td>0xdf89ebffbb142c74b99cceeb408511cbfd91400718ab...</td>\n",
       "      <td>2024-01-11 16:09:00.000 UTC</td>\n",
       "      <td>9.703826e-07</td>\n",
       "    </tr>\n",
       "    <tr>\n",
       "      <th>519602</th>\n",
       "      <td>0xc9034c3e7f58003e6ae0c8438e7c8f4598d5acaa</td>\n",
       "      <td>2.537970e+05</td>\n",
       "      <td>0xa0b311561f31da8bd0269a9799fe123cccaeda9bd5b3...</td>\n",
       "      <td>2024-01-12 04:41:00.000 UTC</td>\n",
       "      <td>9.703826e-07</td>\n",
       "    </tr>\n",
       "    <tr>\n",
       "      <th>519603</th>\n",
       "      <td>0x2da1405b67a4c240b7e72c47ab6b9f53048cb978</td>\n",
       "      <td>1.000000e+04</td>\n",
       "      <td>0x0c6132be25243889c8e5df831ca2ebb943d86437c7b3...</td>\n",
       "      <td>2024-01-12 17:45:00.000 UTC</td>\n",
       "      <td>9.703826e-07</td>\n",
       "    </tr>\n",
       "  </tbody>\n",
       "</table>\n",
       "<p>519604 rows × 5 columns</p>\n",
       "</div>"
      ],
      "text/plain": [
       "                                           address  degen_amount  \\\n",
       "0       0x27d507b40f0ae4011f689e708b174e925c89cc69 -1.000000e+04   \n",
       "1       0x27d507b40f0ae4011f689e708b174e925c89cc69 -1.278587e+03   \n",
       "2       0x50e388c498ad8a92e57066b69108e2668b2a4998 -3.000000e+03   \n",
       "3       0xdc74846f63d13669e7b2c61f7a18a0288529779f -6.256487e+04   \n",
       "4       0xcb5d4d5a89c801ddf85f030709d115436d325d8c -5.468346e+04   \n",
       "...                                            ...           ...   \n",
       "519599  0x1007a39088c22a4dfe54032f08fc47a7303603df  1.624925e+06   \n",
       "519600  0x6207f31163e6f31d588019afaa14299a418d3264  5.663361e+06   \n",
       "519601  0xc9034c3e7f58003e6ae0c8438e7c8f4598d5acaa  9.500000e+07   \n",
       "519602  0xc9034c3e7f58003e6ae0c8438e7c8f4598d5acaa  2.537970e+05   \n",
       "519603  0x2da1405b67a4c240b7e72c47ab6b9f53048cb978  1.000000e+04   \n",
       "\n",
       "                                              evt_tx_hash  \\\n",
       "0       0x964dcef0e92943733e10fb86535f14aac8dd5ec60089...   \n",
       "1       0x964dcef0e92943733e10fb86535f14aac8dd5ec60089...   \n",
       "2       0x737da2d687b2c0ba1838a6faa903fd14ec06e11afbbb...   \n",
       "3       0xbc24eb338778f2bde6a3cadc973cfbca6ce4f04664f0...   \n",
       "4       0x2a72c2dacca0f31a594dd66e8a5954e50b9149b73439...   \n",
       "...                                                   ...   \n",
       "519599  0x681076530c436ab398c68131c03646d1f110cd2ff389...   \n",
       "519600  0xd1be4a81f6c2e66dc5dd1895e366de807066bc7617b3...   \n",
       "519601  0xdf89ebffbb142c74b99cceeb408511cbfd91400718ab...   \n",
       "519602  0xa0b311561f31da8bd0269a9799fe123cccaeda9bd5b3...   \n",
       "519603  0x0c6132be25243889c8e5df831ca2ebb943d86437c7b3...   \n",
       "\n",
       "                             minute  price_at_time  \n",
       "0       2024-02-01 02:32:00.000 UTC   8.520000e-04  \n",
       "1       2024-02-01 02:32:00.000 UTC   8.520000e-04  \n",
       "2       2024-02-01 02:32:00.000 UTC   8.520000e-04  \n",
       "3       2024-02-01 00:24:00.000 UTC   8.070000e-04  \n",
       "4       2024-02-01 00:24:00.000 UTC   8.070000e-04  \n",
       "...                             ...            ...  \n",
       "519599  2024-01-09 09:15:00.000 UTC   9.703826e-07  \n",
       "519600  2024-01-09 18:25:00.000 UTC   2.004702e-05  \n",
       "519601  2024-01-11 16:09:00.000 UTC   9.703826e-07  \n",
       "519602  2024-01-12 04:41:00.000 UTC   9.703826e-07  \n",
       "519603  2024-01-12 17:45:00.000 UTC   9.703826e-07  \n",
       "\n",
       "[519604 rows x 5 columns]"
      ]
     },
     "execution_count": 72,
     "metadata": {},
     "output_type": "execute_result"
    }
   ],
   "source": [
    "query_result"
   ]
  },
  {
   "cell_type": "code",
   "execution_count": 73,
   "id": "4a6aa799",
   "metadata": {},
   "outputs": [],
   "source": [
    "df = query_result"
   ]
  },
  {
   "cell_type": "code",
   "execution_count": 16,
   "id": "3edc2cae",
   "metadata": {},
   "outputs": [],
   "source": [
    "# for testing\n",
    "# df = df[df['address'] == '0x58fec77fcd151f4aa0ee2a0c4a576111f1049d1d']"
   ]
  },
  {
   "cell_type": "code",
   "execution_count": 74,
   "id": "964cc42f",
   "metadata": {},
   "outputs": [],
   "source": [
    "# Convert 'minute' to datetime and sort the dataframe\n",
    "df['minute'] = pd.to_datetime(df['minute'])\n",
    "df.sort_values(by=['address', 'minute'], inplace=True)"
   ]
  },
  {
   "cell_type": "code",
   "execution_count": 75,
   "id": "3f5b0578",
   "metadata": {},
   "outputs": [],
   "source": [
    "%%time\n",
    "\n",
    "def calculate_realized_balance(group):\n",
    "    virtual_coins = []  # This will hold tuples of (amount, price)\n",
    "\n",
    "    # First pass: construct the list of virtual coins, ordered by amount (descending)\n",
    "    for _, transaction in group.iterrows():\n",
    "        amount = transaction['degen_amount']\n",
    "        price = transaction['price_at_time']\n",
    "\n",
    "        if amount > 0:\n",
    "            # Incoming payment, add a new virtual coin\n",
    "            virtual_coins.append((amount, price))\n",
    "        else:\n",
    "            # Outgoing payment, need to subtract from the largest available coin\n",
    "            amount = -amount  # Make the amount positive\n",
    "            virtual_coins = sorted(virtual_coins, key=lambda x: -x[0])  # Sort by amount descending\n",
    "\n",
    "            for i, (virtual_coin_amount, virtual_coin_price) in enumerate(virtual_coins):\n",
    "                if amount >= virtual_coin_amount:\n",
    "                    # Use up the entire virtual coin\n",
    "                    amount -= virtual_coin_amount\n",
    "                    virtual_coins[i] = (0, price)  # This coin is now used up\n",
    "                else:\n",
    "                    # Only part of the virtual coin is used\n",
    "                    virtual_coins[i] = (virtual_coin_amount - amount, price)\n",
    "                    break  # We've subtracted the outgoing amount, so break the loop\n",
    "\n",
    "        # Remove any coins that have been used up (amount is zero)\n",
    "        virtual_coins = [coin for coin in virtual_coins if coin[0] > 0]\n",
    "        \n",
    "#         print(\"current virtual_coins = \")\n",
    "#         print(virtual_coins)\n",
    "#         print()\n",
    "\n",
    "    # Second pass: calculate the realized balance from the remaining virtual coins\n",
    "    realized_balance = sum(amount * price for amount, price in virtual_coins)\n",
    "    \n",
    "    return realized_balance"
   ]
  },
  {
   "cell_type": "code",
   "execution_count": null,
   "id": "072a2594",
   "metadata": {},
   "outputs": [],
   "source": []
  },
  {
   "cell_type": "code",
   "execution_count": null,
   "id": "c728f72b",
   "metadata": {},
   "outputs": [],
   "source": []
  },
  {
   "cell_type": "code",
   "execution_count": 76,
   "id": "46c658f5",
   "metadata": {
    "scrolled": true
   },
   "outputs": [
    {
     "name": "stderr",
     "output_type": "stream",
     "text": [
      "/var/folders/d7/px4831yx38d7k85rs8_2n93r0000gn/T/ipykernel_95889/432536209.py:2: DeprecationWarning: DataFrameGroupBy.apply operated on the grouping columns. This behavior is deprecated, and in a future version of pandas the grouping columns will be excluded from the operation. Either pass `include_groups=False` to exclude the groupings or explicitly select the grouping columns after groupby to silence this warning.\n",
      "  df_grouped = df.groupby('address').apply(calculate_realized_balance)\n"
     ]
    }
   ],
   "source": [
    "# Calculate realized balance for each address\n",
    "df_grouped = df.groupby('address').apply(calculate_realized_balance)"
   ]
  },
  {
   "cell_type": "code",
   "execution_count": 78,
   "id": "de4cf515",
   "metadata": {},
   "outputs": [
    {
     "data": {
      "text/plain": [
       "(78591014.41494605,\n",
       " address\n",
       " 0x0000000000000000000000000000000000000000       167.777342\n",
       " 0x0000000000002bdbf1bf3279983603ec279cc6df         0.121411\n",
       " 0x00000000000ba9cd9f5175108141a82b6c24d727      8562.705691\n",
       " 0x00000000009726632680fb29d3f7a9734e3010e2    237167.082520\n",
       " 0x0000000000a6f0986c92cf1ec4d2e77afbe1466d     46429.138728\n",
       "                                                   ...      \n",
       " 0xfff0c2b705be5fb8245246550bf0a4dd233a70c0         1.044900\n",
       " 0xfff9619cf4d7f254cff6d6e2aeea100591a80a74        48.385000\n",
       " 0xfffb40347816873ca038756cc87bc610144166b2       116.564629\n",
       " 0xfffe980de8f812bf3731d8f0682e21a2177bb40a         0.000000\n",
       " 0xffffa219a6cd248ed05f13af39b24715db85e4e2         0.030972\n",
       " Length: 36735, dtype: float64)"
      ]
     },
     "execution_count": 78,
     "metadata": {},
     "output_type": "execute_result"
    }
   ],
   "source": [
    "# Summarize the realized balances to get the total realized cap\n",
    "realized_cap = df_grouped.sum()\n",
    "realized_cap, df_grouped"
   ]
  },
  {
   "cell_type": "code",
   "execution_count": null,
   "id": "c5a404bf",
   "metadata": {},
   "outputs": [],
   "source": []
  },
  {
   "cell_type": "code",
   "execution_count": null,
   "id": "e2a1a939",
   "metadata": {},
   "outputs": [],
   "source": []
  },
  {
   "cell_type": "code",
   "execution_count": null,
   "id": "d69ebde5",
   "metadata": {},
   "outputs": [],
   "source": []
  },
  {
   "cell_type": "code",
   "execution_count": null,
   "id": "dc07035b",
   "metadata": {},
   "outputs": [],
   "source": []
  },
  {
   "cell_type": "code",
   "execution_count": 80,
   "id": "f99c6ffd",
   "metadata": {},
   "outputs": [],
   "source": [
    "def calculate_realized_balance_with_timestamp_and_return_df(group):\n",
    "    virtual_coins = []  # This will hold tuples of (amount, price)\n",
    "    data_for_df = [] \n",
    "\n",
    "    for index, transaction in group.iterrows():\n",
    "        address = transaction['address']\n",
    "        timestamp = transaction['minute']\n",
    "        amount = transaction['degen_amount']\n",
    "        price = transaction['price_at_time']\n",
    "\n",
    "        if amount > 0:\n",
    "            # Incoming payment, add a new virtual coin\n",
    "            virtual_coins.append((amount, price))\n",
    "        else:\n",
    "            # Outgoing payment, need to subtract from the largest available coin\n",
    "            amount = -amount # Make the amount positive  \n",
    "            virtual_coins.sort(key=lambda x: -x[0]) # Sort by amount descending\n",
    "\n",
    "            for i, (virtual_coin_amount, virtual_coin_price) in enumerate(virtual_coins):\n",
    "                if amount >= virtual_coin_amount:\n",
    "                    # Use up the entire virtual coin\n",
    "                    amount -= virtual_coin_amount \n",
    "                    virtual_coins[i] = (0, price) # This coin is now used up\n",
    "                else:\n",
    "                    # Only part of the virtual coin is used\n",
    "                    virtual_coins[i] = (virtual_coin_amount - amount, price)\n",
    "                    amount = 0\n",
    "                    break  # We've subtracted the outgoing amount, so break the loop\n",
    "            \n",
    "            # Remove any coins that have been used up (amount is zero)\n",
    "            virtual_coins = [coin for coin in virtual_coins if coin[0] > 0]\n",
    "\n",
    "        realized_balance = sum(coin_amount * coin_price for coin_amount, coin_price in virtual_coins)\n",
    "        data_for_df.append({'address': address, 'timestamp': timestamp, 'realized_balance': realized_balance})\n",
    "\n",
    "    \n",
    "    return pd.DataFrame(data_for_df)"
   ]
  },
  {
   "cell_type": "code",
   "execution_count": 81,
   "id": "0d5d122f",
   "metadata": {},
   "outputs": [],
   "source": [
    "df = query_result"
   ]
  },
  {
   "cell_type": "code",
   "execution_count": 82,
   "id": "65236dec",
   "metadata": {},
   "outputs": [],
   "source": [
    "# Using the mocked DataFrame to demonstrate this function\n",
    "# Let's create a new mock dataframe with timestamps for demonstration\n",
    "df['minute'] = pd.to_datetime(df['minute'])  # Ensure 'minute' is a datetime column\n",
    "grouped = df.groupby('address')  # Group by address"
   ]
  },
  {
   "cell_type": "code",
   "execution_count": null,
   "id": "057b2875",
   "metadata": {},
   "outputs": [],
   "source": [
    "\n",
    "\n"
   ]
  },
  {
   "cell_type": "code",
   "execution_count": 83,
   "id": "bfbbd7f4",
   "metadata": {},
   "outputs": [
    {
     "name": "stdout",
     "output_type": "stream",
     "text": [
      "CPU times: user 3min 37s, sys: 1.31 s, total: 3min 38s\n",
      "Wall time: 3min 42s\n"
     ]
    }
   ],
   "source": [
    "%%time\n",
    "\n",
    "# Now let's apply the modified function to each group\n",
    "result_dfs = [calculate_realized_balance_with_timestamp_and_return_df(group) for _, group in grouped]"
   ]
  },
  {
   "cell_type": "code",
   "execution_count": 84,
   "id": "532ff613",
   "metadata": {},
   "outputs": [
    {
     "data": {
      "text/html": [
       "<div>\n",
       "<style scoped>\n",
       "    .dataframe tbody tr th:only-of-type {\n",
       "        vertical-align: middle;\n",
       "    }\n",
       "\n",
       "    .dataframe tbody tr th {\n",
       "        vertical-align: top;\n",
       "    }\n",
       "\n",
       "    .dataframe thead th {\n",
       "        text-align: right;\n",
       "    }\n",
       "</style>\n",
       "<table border=\"1\" class=\"dataframe\">\n",
       "  <thead>\n",
       "    <tr style=\"text-align: right;\">\n",
       "      <th></th>\n",
       "      <th>address</th>\n",
       "      <th>timestamp</th>\n",
       "      <th>realized_balance</th>\n",
       "    </tr>\n",
       "  </thead>\n",
       "  <tbody>\n",
       "    <tr>\n",
       "      <th>0</th>\n",
       "      <td>0x0000000000000000000000000000000000000000</td>\n",
       "      <td>2024-01-07 15:25:00+00:00</td>\n",
       "      <td>0.000000</td>\n",
       "    </tr>\n",
       "    <tr>\n",
       "      <th>1</th>\n",
       "      <td>0x0000000000000000000000000000000000000000</td>\n",
       "      <td>2024-01-08 17:49:00+00:00</td>\n",
       "      <td>0.000425</td>\n",
       "    </tr>\n",
       "    <tr>\n",
       "      <th>2</th>\n",
       "      <td>0x0000000000000000000000000000000000000000</td>\n",
       "      <td>2024-01-25 15:18:00+00:00</td>\n",
       "      <td>0.000425</td>\n",
       "    </tr>\n",
       "    <tr>\n",
       "      <th>3</th>\n",
       "      <td>0x0000000000000000000000000000000000000000</td>\n",
       "      <td>2024-01-25 18:02:00+00:00</td>\n",
       "      <td>0.076445</td>\n",
       "    </tr>\n",
       "    <tr>\n",
       "      <th>4</th>\n",
       "      <td>0x0000000000000000000000000000000000000000</td>\n",
       "      <td>2024-02-27 14:08:00+00:00</td>\n",
       "      <td>167.777342</td>\n",
       "    </tr>\n",
       "    <tr>\n",
       "      <th>...</th>\n",
       "      <td>...</td>\n",
       "      <td>...</td>\n",
       "      <td>...</td>\n",
       "    </tr>\n",
       "    <tr>\n",
       "      <th>519599</th>\n",
       "      <td>0xfffb40347816873ca038756cc87bc610144166b2</td>\n",
       "      <td>2024-02-04 10:25:00+00:00</td>\n",
       "      <td>116.564629</td>\n",
       "    </tr>\n",
       "    <tr>\n",
       "      <th>519600</th>\n",
       "      <td>0xfffe980de8f812bf3731d8f0682e21a2177bb40a</td>\n",
       "      <td>2024-01-28 05:20:00+00:00</td>\n",
       "      <td>9577.678563</td>\n",
       "    </tr>\n",
       "    <tr>\n",
       "      <th>519601</th>\n",
       "      <td>0xfffe980de8f812bf3731d8f0682e21a2177bb40a</td>\n",
       "      <td>2024-01-29 02:17:00+00:00</td>\n",
       "      <td>10157.923101</td>\n",
       "    </tr>\n",
       "    <tr>\n",
       "      <th>519602</th>\n",
       "      <td>0xfffe980de8f812bf3731d8f0682e21a2177bb40a</td>\n",
       "      <td>2024-01-29 02:17:00+00:00</td>\n",
       "      <td>0.000000</td>\n",
       "    </tr>\n",
       "    <tr>\n",
       "      <th>519603</th>\n",
       "      <td>0xffffa219a6cd248ed05f13af39b24715db85e4e2</td>\n",
       "      <td>2024-02-26 04:15:00+00:00</td>\n",
       "      <td>0.030972</td>\n",
       "    </tr>\n",
       "  </tbody>\n",
       "</table>\n",
       "<p>519604 rows × 3 columns</p>\n",
       "</div>"
      ],
      "text/plain": [
       "                                           address                 timestamp  \\\n",
       "0       0x0000000000000000000000000000000000000000 2024-01-07 15:25:00+00:00   \n",
       "1       0x0000000000000000000000000000000000000000 2024-01-08 17:49:00+00:00   \n",
       "2       0x0000000000000000000000000000000000000000 2024-01-25 15:18:00+00:00   \n",
       "3       0x0000000000000000000000000000000000000000 2024-01-25 18:02:00+00:00   \n",
       "4       0x0000000000000000000000000000000000000000 2024-02-27 14:08:00+00:00   \n",
       "...                                            ...                       ...   \n",
       "519599  0xfffb40347816873ca038756cc87bc610144166b2 2024-02-04 10:25:00+00:00   \n",
       "519600  0xfffe980de8f812bf3731d8f0682e21a2177bb40a 2024-01-28 05:20:00+00:00   \n",
       "519601  0xfffe980de8f812bf3731d8f0682e21a2177bb40a 2024-01-29 02:17:00+00:00   \n",
       "519602  0xfffe980de8f812bf3731d8f0682e21a2177bb40a 2024-01-29 02:17:00+00:00   \n",
       "519603  0xffffa219a6cd248ed05f13af39b24715db85e4e2 2024-02-26 04:15:00+00:00   \n",
       "\n",
       "        realized_balance  \n",
       "0               0.000000  \n",
       "1               0.000425  \n",
       "2               0.000425  \n",
       "3               0.076445  \n",
       "4             167.777342  \n",
       "...                  ...  \n",
       "519599        116.564629  \n",
       "519600       9577.678563  \n",
       "519601      10157.923101  \n",
       "519602          0.000000  \n",
       "519603          0.030972  \n",
       "\n",
       "[519604 rows x 3 columns]"
      ]
     },
     "execution_count": 84,
     "metadata": {},
     "output_type": "execute_result"
    }
   ],
   "source": [
    "# Concatenate all the individual DataFrames into a single one\n",
    "final_df = pd.concat(result_dfs, ignore_index=True)\n",
    "final_df"
   ]
  },
  {
   "cell_type": "code",
   "execution_count": 85,
   "id": "18f04eb0",
   "metadata": {},
   "outputs": [
    {
     "data": {
      "text/html": [
       "<div>\n",
       "<style scoped>\n",
       "    .dataframe tbody tr th:only-of-type {\n",
       "        vertical-align: middle;\n",
       "    }\n",
       "\n",
       "    .dataframe tbody tr th {\n",
       "        vertical-align: top;\n",
       "    }\n",
       "\n",
       "    .dataframe thead th {\n",
       "        text-align: right;\n",
       "    }\n",
       "</style>\n",
       "<table border=\"1\" class=\"dataframe\">\n",
       "  <thead>\n",
       "    <tr style=\"text-align: right;\">\n",
       "      <th></th>\n",
       "      <th>address</th>\n",
       "      <th>timestamp</th>\n",
       "      <th>realized_balance</th>\n",
       "    </tr>\n",
       "  </thead>\n",
       "  <tbody>\n",
       "    <tr>\n",
       "      <th>0</th>\n",
       "      <td>0x0000000000000000000000000000000000000000</td>\n",
       "      <td>2024-01-07 15:25:00+00:00</td>\n",
       "      <td>0.000000</td>\n",
       "    </tr>\n",
       "    <tr>\n",
       "      <th>1</th>\n",
       "      <td>0x0000000000000000000000000000000000000000</td>\n",
       "      <td>2024-01-08 17:49:00+00:00</td>\n",
       "      <td>0.000425</td>\n",
       "    </tr>\n",
       "    <tr>\n",
       "      <th>2</th>\n",
       "      <td>0x0000000000000000000000000000000000000000</td>\n",
       "      <td>2024-01-25 15:18:00+00:00</td>\n",
       "      <td>0.000425</td>\n",
       "    </tr>\n",
       "    <tr>\n",
       "      <th>3</th>\n",
       "      <td>0x0000000000000000000000000000000000000000</td>\n",
       "      <td>2024-01-25 18:02:00+00:00</td>\n",
       "      <td>0.076445</td>\n",
       "    </tr>\n",
       "    <tr>\n",
       "      <th>4</th>\n",
       "      <td>0x0000000000000000000000000000000000000000</td>\n",
       "      <td>2024-02-27 14:08:00+00:00</td>\n",
       "      <td>167.777342</td>\n",
       "    </tr>\n",
       "    <tr>\n",
       "      <th>...</th>\n",
       "      <td>...</td>\n",
       "      <td>...</td>\n",
       "      <td>...</td>\n",
       "    </tr>\n",
       "    <tr>\n",
       "      <th>519599</th>\n",
       "      <td>0xfffb40347816873ca038756cc87bc610144166b2</td>\n",
       "      <td>2024-02-04 10:25:00+00:00</td>\n",
       "      <td>116.564629</td>\n",
       "    </tr>\n",
       "    <tr>\n",
       "      <th>519600</th>\n",
       "      <td>0xfffe980de8f812bf3731d8f0682e21a2177bb40a</td>\n",
       "      <td>2024-01-28 05:20:00+00:00</td>\n",
       "      <td>9577.678563</td>\n",
       "    </tr>\n",
       "    <tr>\n",
       "      <th>519601</th>\n",
       "      <td>0xfffe980de8f812bf3731d8f0682e21a2177bb40a</td>\n",
       "      <td>2024-01-29 02:17:00+00:00</td>\n",
       "      <td>10157.923101</td>\n",
       "    </tr>\n",
       "    <tr>\n",
       "      <th>519602</th>\n",
       "      <td>0xfffe980de8f812bf3731d8f0682e21a2177bb40a</td>\n",
       "      <td>2024-01-29 02:17:00+00:00</td>\n",
       "      <td>0.000000</td>\n",
       "    </tr>\n",
       "    <tr>\n",
       "      <th>519603</th>\n",
       "      <td>0xffffa219a6cd248ed05f13af39b24715db85e4e2</td>\n",
       "      <td>2024-02-26 04:15:00+00:00</td>\n",
       "      <td>0.030972</td>\n",
       "    </tr>\n",
       "  </tbody>\n",
       "</table>\n",
       "<p>519604 rows × 3 columns</p>\n",
       "</div>"
      ],
      "text/plain": [
       "                                           address                 timestamp  \\\n",
       "0       0x0000000000000000000000000000000000000000 2024-01-07 15:25:00+00:00   \n",
       "1       0x0000000000000000000000000000000000000000 2024-01-08 17:49:00+00:00   \n",
       "2       0x0000000000000000000000000000000000000000 2024-01-25 15:18:00+00:00   \n",
       "3       0x0000000000000000000000000000000000000000 2024-01-25 18:02:00+00:00   \n",
       "4       0x0000000000000000000000000000000000000000 2024-02-27 14:08:00+00:00   \n",
       "...                                            ...                       ...   \n",
       "519599  0xfffb40347816873ca038756cc87bc610144166b2 2024-02-04 10:25:00+00:00   \n",
       "519600  0xfffe980de8f812bf3731d8f0682e21a2177bb40a 2024-01-28 05:20:00+00:00   \n",
       "519601  0xfffe980de8f812bf3731d8f0682e21a2177bb40a 2024-01-29 02:17:00+00:00   \n",
       "519602  0xfffe980de8f812bf3731d8f0682e21a2177bb40a 2024-01-29 02:17:00+00:00   \n",
       "519603  0xffffa219a6cd248ed05f13af39b24715db85e4e2 2024-02-26 04:15:00+00:00   \n",
       "\n",
       "        realized_balance  \n",
       "0               0.000000  \n",
       "1               0.000425  \n",
       "2               0.000425  \n",
       "3               0.076445  \n",
       "4             167.777342  \n",
       "...                  ...  \n",
       "519599        116.564629  \n",
       "519600       9577.678563  \n",
       "519601      10157.923101  \n",
       "519602          0.000000  \n",
       "519603          0.030972  \n",
       "\n",
       "[519604 rows x 3 columns]"
      ]
     },
     "execution_count": 85,
     "metadata": {},
     "output_type": "execute_result"
    }
   ],
   "source": [
    "final_df"
   ]
  },
  {
   "cell_type": "code",
   "execution_count": null,
   "id": "380af51f",
   "metadata": {},
   "outputs": [],
   "source": []
  },
  {
   "cell_type": "code",
   "execution_count": 86,
   "id": "a32db845",
   "metadata": {},
   "outputs": [],
   "source": [
    "final_df.to_csv('degen_realized_balanace.csv', index = False)"
   ]
  },
  {
   "cell_type": "code",
   "execution_count": 87,
   "id": "bb479c4b",
   "metadata": {},
   "outputs": [],
   "source": [
    "file_path = r'degen_realized_balanace.csv'\n",
    "with open(file_path) as file:\n",
    "    data = file.read()"
   ]
  },
  {
   "cell_type": "code",
   "execution_count": 88,
   "id": "7de62d3a",
   "metadata": {},
   "outputs": [],
   "source": [
    "%%time\n",
    "\n",
    "table = dune.upload_csv(\n",
    "    data=data,\n",
    "    table_name=\"degen_realized_balanace\",\n",
    "    is_private=False\n",
    ")"
   ]
  },
  {
   "cell_type": "code",
   "execution_count": 89,
   "id": "cdd8e32a",
   "metadata": {},
   "outputs": [
    {
     "data": {
      "text/plain": [
       "True"
      ]
     },
     "execution_count": 89,
     "metadata": {},
     "output_type": "execute_result"
    }
   ],
   "source": [
    "table"
   ]
  },
  {
   "cell_type": "code",
   "execution_count": 91,
   "id": "30cd572a",
   "metadata": {},
   "outputs": [
    {
     "ename": "NameError",
     "evalue": "name '__file__' is not defined",
     "output_type": "error",
     "traceback": [
      "\u001b[0;31m---------------------------------------------------------------------------\u001b[0m",
      "\u001b[0;31mNameError\u001b[0m                                 Traceback (most recent call last)",
      "\u001b[0;32m/var/folders/d7/px4831yx38d7k85rs8_2n93r0000gn/T/ipykernel_95889/4206237827.py\u001b[0m in \u001b[0;36m<module>\u001b[0;34m\u001b[0m\n\u001b[0;32m----> 1\u001b[0;31m \u001b[0mos\u001b[0m\u001b[0;34m.\u001b[0m\u001b[0mpath\u001b[0m\u001b[0;34m.\u001b[0m\u001b[0mjoin\u001b[0m\u001b[0;34m(\u001b[0m\u001b[0mos\u001b[0m\u001b[0;34m.\u001b[0m\u001b[0mpath\u001b[0m\u001b[0;34m.\u001b[0m\u001b[0mdirname\u001b[0m\u001b[0;34m(\u001b[0m\u001b[0m__file__\u001b[0m\u001b[0;34m)\u001b[0m\u001b[0;34m,\u001b[0m \u001b[0;34m'..'\u001b[0m\u001b[0;34m,\u001b[0m \u001b[0;34m'uploads'\u001b[0m\u001b[0;34m)\u001b[0m\u001b[0;34m\u001b[0m\u001b[0;34m\u001b[0m\u001b[0m\n\u001b[0m",
      "\u001b[0;31mNameError\u001b[0m: name '__file__' is not defined"
     ]
    }
   ],
   "source": [
    "os.path.join(os.path.dirname(__file__), '..', 'uploads')"
   ]
  },
  {
   "cell_type": "code",
   "execution_count": 93,
   "id": "b8d1cfbe",
   "metadata": {},
   "outputs": [
    {
     "data": {
      "text/plain": [
       "'/Users/zokum/local-Workspace/misc/degen_dash/__main__/../.env'"
      ]
     },
     "execution_count": 93,
     "metadata": {},
     "output_type": "execute_result"
    }
   ],
   "source": [
    "os.path.join(os.path.abspath(__name__), '..', '.env')"
   ]
  },
  {
   "cell_type": "code",
   "execution_count": null,
   "id": "9743ca0d",
   "metadata": {},
   "outputs": [],
   "source": []
  }
 ],
 "metadata": {
  "kernelspec": {
   "display_name": "Python 3 (ipykernel)",
   "language": "python",
   "name": "python3"
  },
  "language_info": {
   "codemirror_mode": {
    "name": "ipython",
    "version": 3
   },
   "file_extension": ".py",
   "mimetype": "text/x-python",
   "name": "python",
   "nbconvert_exporter": "python",
   "pygments_lexer": "ipython3",
   "version": "3.9.7"
  }
 },
 "nbformat": 4,
 "nbformat_minor": 5
}
